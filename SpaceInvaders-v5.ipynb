{
 "cells": [
  {
   "cell_type": "code",
   "execution_count": null,
   "metadata": {},
   "outputs": [],
   "source": [
    "import gymnasium as gym\n",
    "\n",
    "import os\n",
    "import random\n",
    "import time\n",
    "from utils.params import Params\n",
    "from utils.dqn_atari import QNetwork, make_env, linear_schedule\n",
    "\n",
    "import torch\n",
    "import torch.optim as optim\n",
    "\n",
    "import torch.nn.functional as F\n",
    "from torch.utils.tensorboard import SummaryWriter\n",
    "import numpy as np\n",
    "from stable_baselines3.common.buffers import ReplayBuffer\n",
    "from tqdm import tqdm\n",
    "\n",
    "from pathlib import Path"
   ]
  },
  {
   "cell_type": "markdown",
   "metadata": {},
   "source": [
    "## Parameters"
   ]
  },
  {
   "cell_type": "code",
   "execution_count": null,
   "metadata": {},
   "outputs": [],
   "source": [
    "params = Params(\n",
    "    exp_name=\"dqn-space-invaders\",\n",
    "    env_id=\"SpaceInvadersNoFrameskip-v4\",\n",
    "    n_runs=10000000,\n",
    "    learning_rate=1e-4,\n",
    "    num_envs=1,\n",
    "    buffer_size=1000000,\n",
    "    discount_factor=0.99,\n",
    "    tau=1.,\n",
    "    target_network_frequency=1000,\n",
    "    batch_size=32,\n",
    "    initial_epsilon=1,\n",
    "    final_epsilon=0.01,\n",
    "    epsilon_decay=0.10,\n",
    "    learning_starts=80000,\n",
    "    train_frequency=4,\n",
    "    save_exp_folder=Path(\"experiments/SpaceInvadersNoFrameskip-v4/\"),\n",
    "    save_model=True,\n",
    "    seed=1\n",
    ")\n",
    "\n",
    "# create the figure folder if it doesn't exists\n",
    "params.save_exp_folder.mkdir(parents=True, exist_ok=True)"
   ]
  },
  {
   "cell_type": "markdown",
   "metadata": {},
   "source": [
    "### Seeding"
   ]
  },
  {
   "cell_type": "code",
   "execution_count": null,
   "metadata": {},
   "outputs": [],
   "source": [
    "random.seed(params.seed)\n",
    "np.random.seed(params.seed)\n",
    "torch.manual_seed(params.seed)\n",
    "torch.backends.cudnn.deterministic = params.torch_deterministic"
   ]
  },
  {
   "cell_type": "code",
   "execution_count": null,
   "metadata": {},
   "outputs": [],
   "source": [
    "device = torch.device(\"cuda\" if torch.cuda.is_available() and params.cuda else \"cpu\")\n",
    "run_name = f\"{params.env_id}__{params.exp_name}__{params.seed}__{int(time.time())}\""
   ]
  },
  {
   "cell_type": "markdown",
   "metadata": {},
   "source": [
    "### Tensorboard init"
   ]
  },
  {
   "cell_type": "code",
   "execution_count": null,
   "metadata": {},
   "outputs": [],
   "source": [
    "writer = SummaryWriter(f\"{params.save_exp_folder}/runs/{run_name}\")\n",
    "writer.add_text(\n",
    "    \"hyperparameters\",\n",
    "    \"|param|value|\\n|-|-|\\n%s\" % (\"\\n\".join([f\"|{key}|{value}\" for key, value in params._asdict().items()]))\n",
    ")"
   ]
  },
  {
   "cell_type": "markdown",
   "metadata": {},
   "source": [
    "### env setup"
   ]
  },
  {
   "cell_type": "code",
   "execution_count": null,
   "metadata": {},
   "outputs": [],
   "source": [
    "envs = gym.vector.SyncVectorEnv(\n",
    "    [make_env(params.env_id, params.seed + i, i, params.capture_video, run_name, params.save_exp_folder) for i in range(params.num_envs)]\n",
    ")\n",
    "\n",
    "assert isinstance(envs.single_action_space, gym.spaces.Discrete), \"only discrete action space is supported\""
   ]
  },
  {
   "cell_type": "markdown",
   "metadata": {},
   "source": [
    "### network setup"
   ]
  },
  {
   "cell_type": "code",
   "execution_count": null,
   "metadata": {},
   "outputs": [],
   "source": [
    "q_network = QNetwork(envs).to(device)\n",
    "optimizer = optim.Adam(q_network.parameters(), lr=params.learning_rate)\n",
    "target_network = QNetwork(envs).to(device)\n",
    "target_network.load_state_dict(q_network.state_dict())\n",
    "\n",
    "rb = ReplayBuffer(\n",
    "    params.buffer_size,\n",
    "    envs.single_observation_space,\n",
    "    envs.single_action_space,\n",
    "    device,\n",
    "    optimize_memory_usage=True,\n",
    "    handle_timeout_termination=False,\n",
    ")"
   ]
  },
  {
   "cell_type": "markdown",
   "metadata": {},
   "source": [
    "## Training loop"
   ]
  },
  {
   "cell_type": "code",
   "execution_count": null,
   "metadata": {},
   "outputs": [],
   "source": [
    "start_time= time.time()\n",
    "\n",
    "# start the game!\n",
    "obs, _ = envs.reset(seed=params.seed)\n",
    "\n",
    "for global_step in tqdm(range(params.n_runs)):\n",
    "    # select agent action\n",
    "    epsilon = linear_schedule(params.initial_epsilon, params.final_epsilon, params.epsilon_decay * params.n_runs, global_step)\n",
    "    if random.random() < epsilon:\n",
    "        actions = np.array([envs.single_action_space.sample() for _ in range(envs.num_envs)])\n",
    "    else:\n",
    "        q_values = q_network(torch.Tensor(obs).to(device))\n",
    "        actions = torch.argmax(q_values, dim=1).cpu().numpy()\n",
    "\n",
    "    # execute action and log data\n",
    "    next_obs, rewards, terminations, truncations, infos = envs.step(actions)\n",
    "\n",
    "    # record rewards for plotting purposes\n",
    "    if \"final_info\" in infos:\n",
    "        for info in infos[\"final_info\"]:\n",
    "            # skip envs that are not done\n",
    "            if \"episode\" not in info:\n",
    "                continue\n",
    "            # print(f\"global_step={global_step}, episodic_return={info['episode']['r']}\")\n",
    "            writer.add_scalar(\"charts/episodic_return\", info[\"episode\"][\"r\"], global_step)\n",
    "            writer.add_scalar(\"charts/episodic_return\", info[\"episode\"][\"l\"], global_step)\n",
    "            writer.add_scalar(\"charts/epsilon\", epsilon, global_step)\n",
    "            break\n",
    "\n",
    "    # save data to replay buffer\n",
    "    real_next_obs = next_obs.copy()\n",
    "    for idx, trunc in enumerate(truncations):\n",
    "        if trunc:\n",
    "            real_next_obs[idx] = info[\"final_observation\"][idx]\n",
    "    rb.add(obs, real_next_obs, actions, rewards, terminations, infos)\n",
    "\n",
    "    obs = next_obs\n",
    "\n",
    "    # training\n",
    "    if global_step > params.learning_starts:\n",
    "        if global_step % params.train_frequency == 0:\n",
    "            data = rb.sample(params.batch_size)\n",
    "            \n",
    "            with torch.no_grad():\n",
    "                target_max, _ = target_network(data.next_observations).max(dim=1)\n",
    "                td_target = data.rewards.flatten() + params.discount_factor * target_max * (1 - data.dones.flatten())\n",
    "            old_val = q_network(data.observations).gather(1, data.actions).squeeze()\n",
    "            loss = F.mse_loss(td_target, old_val)\n",
    "\n",
    "            if global_step % 100 == 0:\n",
    "                writer.add_scalar(\"losses/td_loss\", loss, global_step)\n",
    "                writer.add_scalar(\"losses/q_values\", old_val.mean().item(), global_step)\n",
    "                # print(\"SPS:\", int(global_step / (time.time() - start_time)))\n",
    "                writer.add_scalar(\"charts/SPS\", int(global_step / (time.time() - start_time)), global_step)\n",
    "\n",
    "            # optimize the model\n",
    "            optimizer.zero_grad()\n",
    "            loss.backward()\n",
    "            optimizer.step()\n",
    "\n",
    "        # update target network\n",
    "        if global_step % params.target_network_frequency == 0:\n",
    "            for target_network_param, q_network_param in zip(target_network.parameters(), q_network.parameters()):\n",
    "                target_network_param.data.copy_(\n",
    "                    params.tau * q_network_param.data + (1.0 - params.tau) * target_network_param.data\n",
    "                )    "
   ]
  },
  {
   "cell_type": "markdown",
   "metadata": {},
   "source": [
    "## Save model"
   ]
  },
  {
   "cell_type": "code",
   "execution_count": null,
   "metadata": {},
   "outputs": [],
   "source": [
    "if params.save_model:\n",
    "    model_path = f\"{params.save_exp_folder}/runs/{run_name}/{params.exp_name}.cleanrl_model\"\n",
    "    torch.save(q_network.state_dict(), model_path)\n",
    "    print(f\"model saved to {model_path}\")\n",
    "    from utils.dqn_eval import evaluate\n",
    "\n",
    "    episodic_returns = evaluate(\n",
    "        model_path,\n",
    "        make_env,\n",
    "        params.env_id,\n",
    "        eval_episodes=10,\n",
    "        run_name=f\"{run_name}-eval\",\n",
    "        save_exp_folder=params.save_exp_folder,\n",
    "        Model=QNetwork,\n",
    "        device=device,\n",
    "        epsilon=0.05,\n",
    "        capture_video=True\n",
    "    )\n",
    "\n",
    "    for idx, episodic_return in enumerate(episodic_returns):\n",
    "        writer.add_scalar(\"eval/episodic_return\", episodic_return, idx)"
   ]
  },
  {
   "cell_type": "markdown",
   "metadata": {},
   "source": [
    "## Clean up"
   ]
  },
  {
   "cell_type": "code",
   "execution_count": null,
   "metadata": {},
   "outputs": [],
   "source": [
    "envs.close()\n",
    "writer.close()"
   ]
  }
 ],
 "metadata": {
  "kernelspec": {
   "display_name": "gym-env",
   "language": "python",
   "name": "python3"
  },
  "language_info": {
   "codemirror_mode": {
    "name": "ipython",
    "version": 3
   },
   "file_extension": ".py",
   "mimetype": "text/x-python",
   "name": "python",
   "nbconvert_exporter": "python",
   "pygments_lexer": "ipython3",
   "version": "3.11.4"
  },
  "orig_nbformat": 4
 },
 "nbformat": 4,
 "nbformat_minor": 2
}
